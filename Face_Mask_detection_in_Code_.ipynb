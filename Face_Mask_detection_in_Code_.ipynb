{
  "nbformat": 4,
  "nbformat_minor": 0,
  "metadata": {
    "colab": {
      "name": "Face Mask_detection in Code .ipynb",
      "provenance": []
    },
    "kernelspec": {
      "name": "python3",
      "display_name": "Python 3"
    },
    "language_info": {
      "name": "python"
    }
  },
  "cells": [
    {
      "cell_type": "code",
      "metadata": {
        "id": "TqMtQualqnKA"
      },
      "source": [
        "# Importing the dependencies\n",
        "import os\n",
        "from tensorflow.keras.preprocessing import image\n",
        "import cv2\n",
        "import random\n",
        "import numpy as np"
      ],
      "execution_count": 6,
      "outputs": []
    },
    {
      "cell_type": "code",
      "metadata": {
        "id": "1yPjuBIisXbF"
      },
      "source": [
        "import cv2\n",
        "import tensorflow\n",
        "import keras\n",
        "from PIL import Image"
      ],
      "execution_count": 9,
      "outputs": []
    },
    {
      "cell_type": "code",
      "metadata": {
        "id": "xKfVSDnFtVdZ"
      },
      "source": [
        "face_cascade = 'haarcascade_frontalface_default.xml'\n"
      ],
      "execution_count": 10,
      "outputs": []
    },
    {
      "cell_type": "code",
      "metadata": {
        "id": "GkwOESgztbt6"
      },
      "source": [
        "webcam = cv2.VideoCapture(0)\n"
      ],
      "execution_count": 11,
      "outputs": []
    },
    {
      "cell_type": "code",
      "metadata": {
        "id": "hKQmxPWDtdxt"
      },
      "source": [
        "success, image_bgr = webcam.read()\n"
      ],
      "execution_count": 12,
      "outputs": []
    },
    {
      "cell_type": "code",
      "metadata": {
        "id": "kaOhS3kytgCm"
      },
      "source": [
        "while True:\n",
        "    success, image_bgr = webcam.read()\n",
        "    if success:\n",
        "        \n",
        "        image_bw = cv2.cvtColor(image_bgr, cv2.COLOR_BGR2GRAY)\n",
        "        \n",
        "        face_classifier = cv2.CascadeClassifier(face_cascade)\n",
        "        faces = face_classifier.detectMultiScale(image_bw)\n",
        "        print(f'There are {len(faces)} faces found.')\n",
        "        for face in faces:\n",
        "            x, y, w, h = face\n",
        "            cv2.rectangle(image_bgr, (x, y), (x+w, y+h), (0,255,0), 2)\n",
        "        cv2.imshow(\"Face Detection\", image_bgr)\n",
        "        if cv2.waitKey(1) & 0xFF == ord('q'):\n",
        "            break\n",
        "    else:\n",
        "        break\n",
        "webcam.release()\n",
        "cv2.destroyAllWindows()"
      ],
      "execution_count": 13,
      "outputs": []
    },
    {
      "cell_type": "code",
      "metadata": {
        "id": "jU_Zn3LJJeI9"
      },
      "source": [
        ""
      ],
      "execution_count": null,
      "outputs": []
    },
    {
      "cell_type": "code",
      "metadata": {
        "id": "lDfRtAEnJeGZ"
      },
      "source": [
        ""
      ],
      "execution_count": null,
      "outputs": []
    },
    {
      "cell_type": "markdown",
      "metadata": {
        "id": "hfJ9PZ4HJeeD"
      },
      "source": [
        "Wait Wait !!\n",
        "\n",
        "This is only 10% of project Code. [Incomplete]\n",
        "\n",
        "If you want full Project Code with full explanation. \n",
        "\n",
        "Please : \n",
        "\n",
        "# Mail me at **vatshayan007@gmail.com** "
      ]
    },
    {
      "cell_type": "code",
      "metadata": {
        "id": "1StOZfP4JeD0"
      },
      "source": [
        ""
      ],
      "execution_count": null,
      "outputs": []
    },
    {
      "cell_type": "code",
      "metadata": {
        "id": "rWh0ChX3uFk5"
      },
      "source": [
        ""
      ],
      "execution_count": null,
      "outputs": []
    }
  ]
}